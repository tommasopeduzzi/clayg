{
 "cells": [
  {
   "cell_type": "code",
   "execution_count": null,
   "id": "0a81c2e0",
   "metadata": {},
   "outputs": [],
   "source": [
    "import subprocess\n",
    "import os\n",
    "from datetime import datetime\n",
    "import glob\n",
    "import re\n",
    "import os        \n",
    "from scipy.optimize import curve_fit\n",
    "import numpy as np\n",
    "import plotly.graph_objects as go\n",
    "import pandas as pd"
   ]
  },
  {
   "cell_type": "code",
   "execution_count": 229,
   "id": "43d79a24",
   "metadata": {},
   "outputs": [],
   "source": [
    "cwd = os.getcwd()\n",
    "base_dir = os.path.join(cwd, \"data/initial_paper_results\")\n",
    "os.makedirs(base_dir, exist_ok=True)"
   ]
  },
  {
   "cell_type": "code",
   "execution_count": 231,
   "id": "add0236a",
   "metadata": {},
   "outputs": [],
   "source": [
    "import re\n",
    "\n",
    "decoders = [\"uf\", \"clayg\"]\n",
    "\n",
    "distances = [2]\n",
    "\n",
    "probabilities = [0.0001, 0.0005, 0.001]\n",
    "start = 0.001\n",
    "end = 10**-2\n",
    "step = 1.2\n",
    "use_probability_list = True\n",
    "\n",
    "existing_ids = [\n",
    "    int(match.group(1))\n",
    "    for f in os.listdir(base_dir)\n",
    "    if os.path.isdir(os.path.join(base_dir, f))\n",
    "    and (match := re.match(r\"(\\d+)-\", f))\n",
    "]\n",
    "next_id = max(existing_ids, default=0) + 1\n",
    "if next_id not in existing_ids:\n",
    "    timestamp = datetime.now().strftime(\"%Y-%m-%d_%H-%M-%S\")\n",
    "    output_dir = os.path.join(base_dir, f\"{next_id}-{timestamp}\")\n",
    "    os.makedirs(output_dir, exist_ok=True)\n",
    "else:\n",
    "    output_dir = next(\n",
    "        os.path.join(base_dir, f)\n",
    "        for f in os.listdir(base_dir)\n",
    "        if f.startswith(str(next_id))\n",
    "    )\n",
    "\n",
    "if use_probability_list:\n",
    "    for d in distances:\n",
    "        for p in probabilities:\n",
    "            exit(1)\n",
    "            command = f\"/home/tommaso-peduzzi/Documents/clayg/cmake-build-debug/clayg {d} {d} {p} {p*1.5} {','.join(decoders)} {output_dir} p_step=*2 dump=false runs=200000; sleep 1; exit\"\n",
    "            subprocess.Popen([\"xterm\", \"-e\", f'cd \"{cwd}\" && {command}; bash'])\n",
    "else:\n",
    "    for d in distances:\n",
    "        exit(1)\n",
    "        command = f\"/home/tommaso-peduzzi/Documents/clayg/cmake-build-debug/clayg {d} {d} {start} {end} {','.join(decoders)} {output_dir} p_step=*{step} dump=false runs=200000; sleep 1; exit\"\n",
    "        subprocess.Popen([\"xterm\", \"-e\", f'cd \"{cwd}\" && {command}; bash'])\n"
   ]
  },
  {
   "cell_type": "code",
   "execution_count": null,
   "id": "cae22fa7",
   "metadata": {},
   "outputs": [],
   "source": [
    "decoder_colors = {\n",
    "    'uf': [\n",
    "        \"#deebf7\", \"#c6dbef\", \"#9ecae1\", \"#6baed6\", \"#4292c6\",\n",
    "        \"#3182bd\", \"#1f77b4\", \"#2171b5\", \"#08519c\", \"#08306b\"\n",
    "    ],\n",
    "    'clayg': [\n",
    "        \"#fdae6b\", \"#ffbb78\", \"#ff8c00\", \"#fd8d3c\", \"#ffa726\",\n",
    "        \"#f16913\", \"#ff7f0e\", \"#d95f02\", \"#d94801\", \"#a63603\",    \n",
    "    ]\n",
    "}\n",
    "\n",
    "decoder_names = {\n",
    "    'uf': 'UF',\n",
    "    'clayg': 'ClAYG'\n",
    "}"
   ]
  },
  {
   "cell_type": "code",
   "execution_count": 222,
   "id": "1d50767d",
   "metadata": {},
   "outputs": [
    {
     "name": "stdout",
     "output_type": "stream",
     "text": [
      "No folders found for plot_id 17\n",
      "No folders found for plot_id 24\n",
      "No folders found for plot_id 25\n",
      "No folders found for plot_id 26\n",
      "No folders found for plot_id 27\n",
      "No folders found for plot_id 28\n"
     ]
    }
   ],
   "source": [
    "plot_ids = [16, 17, 18, 19, 20, 21, 22, 23, 24, 25, 26, 27, 28]\n",
    "\n",
    "collected_data = {\n",
    "    \"average_operations\": {},\n",
    "    \"results\": {}\n",
    "}\n",
    "\n",
    "data = pd.DataFrame(columns=[\"metric\", \"decoder\", \"depth\", \"p\", \"value\"])\n",
    "\n",
    "for plot_id in plot_ids:\n",
    "    # in base_dir look for folders starting with plot_id\n",
    "    plot_folders = [f for f in glob.glob(os.path.join(base_dir, f\"{plot_id}-*\")) if os.path.isdir(f)]\n",
    "    \n",
    "    if not plot_folders:\n",
    "        print(f\"No folders found for plot_id {plot_id}\")\n",
    "        continue\n",
    "    \n",
    "    folder = plot_folders[0]\n",
    "    files = glob.glob(os.path.join(folder, \"*.txt\"))\n",
    "\n",
    "    pattern = re.compile(r\"(average_operations|results)_(\\w+)_d=(\\d+)\\.txt\")\n",
    "    for file in files:\n",
    "        match = pattern.match(os.path.basename(file))\n",
    "        if not match:\n",
    "            continue\n",
    "        metric, decoder, depth = match.groups()\n",
    "        depth = int(depth)\n",
    "        with open(file, 'r') as f:\n",
    "            lines = f.readlines()\n",
    "            for line in lines:\n",
    "                if line.strip():\n",
    "                    parts = line.strip().split()\n",
    "                    if len(parts) == 2:\n",
    "                        key, value = parts\n",
    "                        # check if line is header or not\n",
    "                        if key == \"p\":\n",
    "                            continue\n",
    "                        try:\n",
    "                            p = float(key)\n",
    "                            value = float(value)\n",
    "                        except ValueError:\n",
    "                            print(f\"Skipping line with non-numeric key or value: {line.strip()}\")\n",
    "                            continue\n",
    "                        # add data to dataframe\n",
    "                        data.loc[len(data)] = {\n",
    "                            \"metric\": metric,\n",
    "                            \"decoder\": decoder,\n",
    "                            \"depth\": depth,\n",
    "                            \"p\": p,\n",
    "                            \"value\": value\n",
    "                        }"
   ]
  },
  {
   "cell_type": "code",
   "execution_count": 224,
   "id": "6c9be5bd",
   "metadata": {},
   "outputs": [
    {
     "data": {
      "application/vnd.microsoft.datawrangler.viewer.v0+json": {
       "columns": [
        {
         "name": "index",
         "rawType": "int64",
         "type": "integer"
        },
        {
         "name": "metric",
         "rawType": "object",
         "type": "string"
        },
        {
         "name": "decoder",
         "rawType": "object",
         "type": "string"
        },
        {
         "name": "depth",
         "rawType": "int64",
         "type": "integer"
        },
        {
         "name": "p",
         "rawType": "float64",
         "type": "float"
        },
        {
         "name": "value",
         "rawType": "float64",
         "type": "float"
        }
       ],
       "ref": "bd19024b-443f-4a2e-8a49-46f7ef897343",
       "rows": [
        [
         "0",
         "results",
         "uf",
         "8",
         "0.0001",
         "0.0"
        ],
        [
         "1",
         "results",
         "uf",
         "8",
         "0.00015",
         "0.0"
        ],
        [
         "2",
         "results",
         "uf",
         "8",
         "0.0002",
         "0.0"
        ],
        [
         "3",
         "results",
         "uf",
         "8",
         "0.00025",
         "0.0"
        ],
        [
         "4",
         "results",
         "uf",
         "8",
         "0.0003",
         "0.0"
        ],
        [
         "5",
         "results",
         "uf",
         "8",
         "0.00035",
         "0.0"
        ],
        [
         "6",
         "results",
         "uf",
         "8",
         "0.0004",
         "0.0"
        ],
        [
         "7",
         "results",
         "uf",
         "8",
         "0.00045",
         "0.0"
        ],
        [
         "8",
         "results",
         "uf",
         "8",
         "0.0005",
         "0.0"
        ],
        [
         "9",
         "results",
         "uf",
         "8",
         "0.00055",
         "0.0"
        ],
        [
         "10",
         "results",
         "uf",
         "8",
         "0.0006",
         "0.0"
        ],
        [
         "11",
         "results",
         "uf",
         "8",
         "0.00065",
         "0.0"
        ],
        [
         "12",
         "results",
         "uf",
         "8",
         "0.0007",
         "0.0"
        ],
        [
         "13",
         "results",
         "uf",
         "8",
         "0.00075",
         "0.0"
        ],
        [
         "14",
         "results",
         "uf",
         "8",
         "0.0008",
         "0.0"
        ],
        [
         "15",
         "results",
         "uf",
         "8",
         "0.00085",
         "0.0"
        ],
        [
         "16",
         "results",
         "uf",
         "8",
         "0.0009",
         "0.0"
        ],
        [
         "17",
         "results",
         "uf",
         "8",
         "0.00095",
         "0.0"
        ],
        [
         "18",
         "results",
         "uf",
         "8",
         "0.001",
         "0.0"
        ],
        [
         "19",
         "results",
         "uf",
         "8",
         "0.00105",
         "0.0"
        ],
        [
         "20",
         "results",
         "uf",
         "8",
         "0.0011",
         "0.0"
        ],
        [
         "21",
         "results",
         "uf",
         "8",
         "0.00115",
         "0.0"
        ],
        [
         "22",
         "results",
         "uf",
         "8",
         "0.0012",
         "0.0"
        ],
        [
         "23",
         "results",
         "uf",
         "8",
         "0.00125",
         "0.0"
        ],
        [
         "24",
         "results",
         "uf",
         "8",
         "0.0013",
         "0.0"
        ],
        [
         "25",
         "results",
         "uf",
         "8",
         "0.00135",
         "0.0"
        ],
        [
         "26",
         "results",
         "uf",
         "8",
         "0.0014",
         "0.0"
        ],
        [
         "27",
         "results",
         "uf",
         "8",
         "0.00145",
         "0.0"
        ],
        [
         "28",
         "results",
         "uf",
         "8",
         "0.0015",
         "0.0"
        ],
        [
         "29",
         "results",
         "uf",
         "8",
         "0.00155",
         "0.0"
        ],
        [
         "30",
         "results",
         "uf",
         "8",
         "0.0016",
         "0.0"
        ],
        [
         "31",
         "results",
         "uf",
         "8",
         "0.00165",
         "0.0"
        ],
        [
         "32",
         "results",
         "uf",
         "8",
         "0.0017",
         "0.0"
        ],
        [
         "33",
         "results",
         "uf",
         "8",
         "0.00175",
         "0.0"
        ],
        [
         "34",
         "results",
         "uf",
         "8",
         "0.0018",
         "0.0"
        ],
        [
         "35",
         "results",
         "uf",
         "8",
         "0.00185",
         "0.0"
        ],
        [
         "36",
         "results",
         "uf",
         "8",
         "0.0019",
         "0.0"
        ],
        [
         "37",
         "results",
         "uf",
         "8",
         "0.00195",
         "0.0"
        ],
        [
         "38",
         "results",
         "uf",
         "8",
         "0.002",
         "0.0"
        ],
        [
         "39",
         "results",
         "uf",
         "8",
         "0.00205",
         "5e-06"
        ],
        [
         "40",
         "results",
         "uf",
         "8",
         "0.0021",
         "0.0"
        ],
        [
         "41",
         "results",
         "uf",
         "8",
         "0.00215",
         "0.0"
        ],
        [
         "42",
         "results",
         "uf",
         "8",
         "0.0022",
         "0.0"
        ],
        [
         "43",
         "results",
         "uf",
         "8",
         "0.00225",
         "0.0"
        ],
        [
         "44",
         "results",
         "uf",
         "8",
         "0.0023",
         "0.0"
        ],
        [
         "45",
         "results",
         "uf",
         "8",
         "0.00235",
         "0.0"
        ],
        [
         "46",
         "results",
         "uf",
         "8",
         "0.0024",
         "0.0"
        ],
        [
         "47",
         "results",
         "uf",
         "8",
         "0.00245",
         "0.0"
        ],
        [
         "48",
         "results",
         "uf",
         "8",
         "0.0025",
         "0.0"
        ],
        [
         "49",
         "results",
         "uf",
         "8",
         "0.00255",
         "5e-06"
        ]
       ],
       "shape": {
        "columns": 5,
        "rows": 236
       }
      },
      "text/html": [
       "<div>\n",
       "<style scoped>\n",
       "    .dataframe tbody tr th:only-of-type {\n",
       "        vertical-align: middle;\n",
       "    }\n",
       "\n",
       "    .dataframe tbody tr th {\n",
       "        vertical-align: top;\n",
       "    }\n",
       "\n",
       "    .dataframe thead th {\n",
       "        text-align: right;\n",
       "    }\n",
       "</style>\n",
       "<table border=\"1\" class=\"dataframe\">\n",
       "  <thead>\n",
       "    <tr style=\"text-align: right;\">\n",
       "      <th></th>\n",
       "      <th>metric</th>\n",
       "      <th>decoder</th>\n",
       "      <th>depth</th>\n",
       "      <th>p</th>\n",
       "      <th>value</th>\n",
       "    </tr>\n",
       "  </thead>\n",
       "  <tbody>\n",
       "    <tr>\n",
       "      <th>0</th>\n",
       "      <td>results</td>\n",
       "      <td>uf</td>\n",
       "      <td>8</td>\n",
       "      <td>1.000000e-04</td>\n",
       "      <td>0.0</td>\n",
       "    </tr>\n",
       "    <tr>\n",
       "      <th>1</th>\n",
       "      <td>results</td>\n",
       "      <td>uf</td>\n",
       "      <td>8</td>\n",
       "      <td>1.500000e-04</td>\n",
       "      <td>0.0</td>\n",
       "    </tr>\n",
       "    <tr>\n",
       "      <th>2</th>\n",
       "      <td>results</td>\n",
       "      <td>uf</td>\n",
       "      <td>8</td>\n",
       "      <td>2.000000e-04</td>\n",
       "      <td>0.0</td>\n",
       "    </tr>\n",
       "    <tr>\n",
       "      <th>3</th>\n",
       "      <td>results</td>\n",
       "      <td>uf</td>\n",
       "      <td>8</td>\n",
       "      <td>2.500000e-04</td>\n",
       "      <td>0.0</td>\n",
       "    </tr>\n",
       "    <tr>\n",
       "      <th>4</th>\n",
       "      <td>results</td>\n",
       "      <td>uf</td>\n",
       "      <td>8</td>\n",
       "      <td>3.000000e-04</td>\n",
       "      <td>0.0</td>\n",
       "    </tr>\n",
       "    <tr>\n",
       "      <th>...</th>\n",
       "      <td>...</td>\n",
       "      <td>...</td>\n",
       "      <td>...</td>\n",
       "      <td>...</td>\n",
       "      <td>...</td>\n",
       "    </tr>\n",
       "    <tr>\n",
       "      <th>231</th>\n",
       "      <td>results</td>\n",
       "      <td>clayg</td>\n",
       "      <td>2</td>\n",
       "      <td>5.000000e-09</td>\n",
       "      <td>0.0</td>\n",
       "    </tr>\n",
       "    <tr>\n",
       "      <th>232</th>\n",
       "      <td>results</td>\n",
       "      <td>clayg</td>\n",
       "      <td>2</td>\n",
       "      <td>2.500000e-13</td>\n",
       "      <td>0.0</td>\n",
       "    </tr>\n",
       "    <tr>\n",
       "      <th>233</th>\n",
       "      <td>results</td>\n",
       "      <td>uf</td>\n",
       "      <td>2</td>\n",
       "      <td>1.000000e-04</td>\n",
       "      <td>0.0</td>\n",
       "    </tr>\n",
       "    <tr>\n",
       "      <th>234</th>\n",
       "      <td>results</td>\n",
       "      <td>uf</td>\n",
       "      <td>2</td>\n",
       "      <td>5.000000e-09</td>\n",
       "      <td>0.0</td>\n",
       "    </tr>\n",
       "    <tr>\n",
       "      <th>235</th>\n",
       "      <td>results</td>\n",
       "      <td>uf</td>\n",
       "      <td>2</td>\n",
       "      <td>2.500000e-13</td>\n",
       "      <td>0.0</td>\n",
       "    </tr>\n",
       "  </tbody>\n",
       "</table>\n",
       "<p>236 rows × 5 columns</p>\n",
       "</div>"
      ],
      "text/plain": [
       "      metric decoder  depth             p  value\n",
       "0    results      uf      8  1.000000e-04    0.0\n",
       "1    results      uf      8  1.500000e-04    0.0\n",
       "2    results      uf      8  2.000000e-04    0.0\n",
       "3    results      uf      8  2.500000e-04    0.0\n",
       "4    results      uf      8  3.000000e-04    0.0\n",
       "..       ...     ...    ...           ...    ...\n",
       "231  results   clayg      2  5.000000e-09    0.0\n",
       "232  results   clayg      2  2.500000e-13    0.0\n",
       "233  results      uf      2  1.000000e-04    0.0\n",
       "234  results      uf      2  5.000000e-09    0.0\n",
       "235  results      uf      2  2.500000e-13    0.0\n",
       "\n",
       "[236 rows x 5 columns]"
      ]
     },
     "execution_count": 224,
     "metadata": {},
     "output_type": "execute_result"
    }
   ],
   "source": [
    "data"
   ]
  },
  {
   "cell_type": "code",
   "execution_count": 226,
   "id": "71f18265",
   "metadata": {},
   "outputs": [
    {
     "name": "stdout",
     "output_type": "stream",
     "text": [
      "{('clayg', 4): {0.000158489: 5e-06, 0.000251189: 5e-06, 0.000630957: 4.5e-05, 0.001: 0.00011, 0.00158489: 0.000325, 0.00251189: 0.000735, 0.00398107: 0.001775, 0.00630957: 0.0044, 0.01: 0.011705, 0.0158489: 0.028875, 0.0251189: 0.067185, 0.0005: 2e-05}, ('clayg', 6): {0.000630957: 1e-05, 0.00158489: 2.5e-05, 0.00251189: 9.5e-05, 0.00398107: 0.000445, 0.00630957: 0.001555, 0.01: 0.006775, 0.0158489: 0.025755, 0.0251189: 0.087285, 0.025: 0.08806, 0.001: 5e-06}, ('clayg', 8): {0.001: 1e-05}, ('uf', 4): {0.000251189: 5e-06, 0.000630957: 4.5e-05, 0.001: 9e-05, 0.00158489: 0.000275, 0.00251189: 0.00059, 0.00398107: 0.00146, 0.00630957: 0.00344, 0.01: 0.009135, 0.0158489: 0.02311, 0.0251189: 0.055305, 0.0005: 1e-05}, ('uf', 6): {0.000630957: 5e-06, 0.00158489: 1.5e-05, 0.00251189: 2.5e-05, 0.00398107: 0.000115, 0.00630957: 0.00055, 0.01: 0.00235, 0.0158489: 0.0114, 0.0251189: 0.048265, 0.025: 0.048565}, ('uf', 8): {0.00205: 5e-06, 0.00255: 5e-06, 0.00265: 5e-06, 0.0027: 5e-06, 0.00275: 5e-06, 0.0028: 5e-06, 0.00285: 5e-06, 0.0029: 5e-06, 0.003: 5e-06, 0.0032: 5e-06, 0.00335: 1e-05, 0.0034: 1e-05, 0.00345: 1e-05}}\n",
      "clayg\n",
      "Plotting ClAYG d=4, data points: 12\n",
      "clayg\n",
      "Plotting ClAYG d=6, data points: 10\n",
      "clayg\n",
      "Plotting ClAYG d=8, data points: 1\n",
      "uf\n",
      "Plotting UF d=4, data points: 11\n",
      "uf\n",
      "Plotting UF d=6, data points: 9\n",
      "uf\n",
      "Plotting UF d=8, data points: 13\n",
      "Opening in existing browser session.\n"
     ]
    },
    {
     "name": "stderr",
     "output_type": "stream",
     "text": [
      "/tmp/ipykernel_32194/631091502.py:2: FutureWarning:\n",
      "\n",
      "DataFrameGroupBy.apply operated on the grouping columns. This behavior is deprecated, and in a future version of pandas the grouping columns will be excluded from the operation. Either pass `include_groups=False` to exclude the groupings or explicitly select the grouping columns after groupby to silence this warning.\n",
      "\n"
     ]
    }
   ],
   "source": [
    "# Plot results\n",
    "results = data.loc[(data['metric'] == 'results') & (data['p'] > 0) & (data['value'] > 0)].groupby(['decoder', 'depth']).apply(\n",
    "    lambda x: x.set_index('p')['value'].to_dict()\n",
    ").to_dict()\n",
    "\n",
    "fig = go.Figure()\n",
    "\n",
    "print(results)\n",
    "\n",
    "for (decoder, depth), values in results.items():\n",
    "    print(decoder)\n",
    "    colors = decoder_colors.get(decoder)\n",
    "    decoder_name = decoder_names.get(decoder)\n",
    "    x = list(values.keys())\n",
    "    y = list(values.values())\n",
    "    sorted_indices = np.argsort(x)\n",
    "    x = np.array(x)[sorted_indices]\n",
    "    y = np.array(y)[sorted_indices]\n",
    "    print(f\"Plotting {decoder_name} d={depth}, data points: {len(x)}\")\n",
    "    fig.add_trace(go.Scatter(\n",
    "        x=x,\n",
    "        y=y,\n",
    "        mode='lines+markers',\n",
    "        name=f\"{decoder_name} d={depth}\",\n",
    "        line=dict(color=colors[depth % len(colors)], width=2),\n",
    "        marker=dict(size=5),\n",
    "        legendgroup=decoder_name,\n",
    "        legendgrouptitle_text=decoder_name,\n",
    "        hovertemplate=f\"{decoder_name} d={depth}<br>p: %{{x:.2e}}<br>L: %{{y:.2e}}\",\n",
    "        showlegend=True,\n",
    "    ))\n",
    "\n",
    "fig.update_layout(\n",
    "    title=f\"Results\",\n",
    "    legend_title=\"Decoder\",\n",
    "    template=\"plotly_white\",\n",
    "    xaxis=dict(type='log', title='p (log scale)'),\n",
    "    yaxis=dict(type='log', title='L (log scale)'),\n",
    ")\n",
    "\n",
    "fig.show(renderer=\"browser\")"
   ]
  },
  {
   "cell_type": "code",
   "execution_count": 228,
   "id": "6b334d86",
   "metadata": {},
   "outputs": [
    {
     "name": "stdout",
     "output_type": "stream",
     "text": [
      "Not enough data points for fitting for ClAYG d=2\n",
      "ClAYG d=4, (d+1)/2=2.5, b=1.8834\n",
      "ClAYG d=6, (d+1)/2=3.5, b=2.7091\n",
      "Not enough data points for fitting for ClAYG d=8\n",
      "Not enough data points for fitting for ClAYG d=10\n",
      "Not enough data points for fitting for UF d=2\n",
      "UF d=4, (d+1)/2=2.5, b=1.9350\n",
      "UF d=6, (d+1)/2=3.5, b=3.1777\n",
      "UF d=8, (d+1)/2=4.5, b=2.5233\n",
      "Not enough data points for fitting for UF d=10\n"
     ]
    },
    {
     "name": "stderr",
     "output_type": "stream",
     "text": [
      "/tmp/ipykernel_32194/680103865.py:2: FutureWarning:\n",
      "\n",
      "DataFrameGroupBy.apply operated on the grouping columns. This behavior is deprecated, and in a future version of pandas the grouping columns will be excluded from the operation. Either pass `include_groups=False` to exclude the groupings or explicitly select the grouping columns after groupby to silence this warning.\n",
      "\n"
     ]
    }
   ],
   "source": [
    "# Perform regression on results\n",
    "results = data.loc[data['metric'] == 'results'].groupby(['decoder', 'depth'], group_keys=False).apply(\n",
    "    lambda x: x.set_index('p')['value'].to_dict()\n",
    ").to_dict()\n",
    "\n",
    "for (decoder, depth), values in results.items():\n",
    "    decoder_name = decoder_names.get(decoder)\n",
    "    # Filter out non-positive values\n",
    "    filtered_data = [(xi, yi) for xi, yi in zip(values.keys(), values.values()) if xi > 0 and yi > 0]\n",
    "    x = np.array([float(xi) for xi, _ in filtered_data])\n",
    "    y = np.array([float(yi) for _, yi in filtered_data])\n",
    "    if len(x) < 2:\n",
    "        print(f\"Not enough data points for fitting for {decoder_name} d={depth}\")\n",
    "        continue\n",
    "\n",
    "    def power_law(x, a, b):\n",
    "        return a * np.power(x, b)\n",
    "    try:\n",
    "        popt, pcov = curve_fit(power_law, x, y)\n",
    "        a, b = popt\n",
    "        print(f\"{decoder_name} d={depth}, (d+1)/2={(depth+1)/2}, b={b:.4f}\")\n",
    "    except Exception as e:\n",
    "        print(f\"Error fitting data for {decoder_name} d={depth}: {e}\")"
   ]
  },
  {
   "cell_type": "code",
   "execution_count": null,
   "id": "75452c36",
   "metadata": {},
   "outputs": [
    {
     "name": "stderr",
     "output_type": "stream",
     "text": [
      "/tmp/ipykernel_32194/3946144164.py:2: FutureWarning:\n",
      "\n",
      "DataFrameGroupBy.apply operated on the grouping columns. This behavior is deprecated, and in a future version of pandas the grouping columns will be excluded from the operation. Either pass `include_groups=False` to exclude the groupings or explicitly select the grouping columns after groupby to silence this warning.\n",
      "\n"
     ]
    },
    {
     "name": "stdout",
     "output_type": "stream",
     "text": [
      "Plotting ClAYG d=2, data points: 3\n",
      "Plotting ClAYG d=4, data points: 3\n",
      "Plotting ClAYG d=6, data points: 3\n",
      "Plotting ClAYG d=8, data points: 3\n",
      "Plotting ClAYG d=10, data points: 3\n",
      "Plotting ClAYG d=12, data points: 3\n",
      "Plotting ClAYG d=14, data points: 3\n",
      "Plotting ClAYG d=16, data points: 3\n",
      "Plotting ClAYG d=18, data points: 3\n",
      "Plotting ClAYG d=20, data points: 3\n",
      "Plotting ClAYG d=22, data points: 3\n",
      "Plotting ClAYG d=24, data points: 3\n",
      "Plotting ClAYG d=26, data points: 3\n",
      "Plotting UF d=2, data points: 3\n",
      "Plotting UF d=4, data points: 3\n",
      "Plotting UF d=6, data points: 3\n",
      "Plotting UF d=8, data points: 3\n",
      "Plotting UF d=10, data points: 3\n",
      "Plotting UF d=12, data points: 3\n",
      "Plotting UF d=14, data points: 3\n",
      "Plotting UF d=16, data points: 3\n",
      "Plotting UF d=18, data points: 3\n",
      "Plotting UF d=20, data points: 3\n",
      "Plotting UF d=22, data points: 3\n",
      "Plotting UF d=24, data points: 3\n",
      "Plotting UF d=26, data points: 3\n",
      "Opening in existing browser session.\n"
     ]
    }
   ],
   "source": [
    "# Plot average operations\n",
    "average_operations = data.loc[data['metric'] == 'average_operations'].groupby(['decoder', 'depth'], group_keys=False).apply(\n",
    "    lambda x: x.set_index('p')['value'].to_dict()\n",
    ").to_dict()\n",
    "\n",
    "fig = go.Figure()\n",
    "\n",
    "for (decoder, depth), values in average_operations.items():\n",
    "    colors = decoder_colors.get(decoder)\n",
    "    decoder_name = decoder_names.get(decoder)\n",
    "    x = list(values.keys())\n",
    "    y = list(values.values())\n",
    "    # sort by x\n",
    "    sorted_indices = np.argsort(x)\n",
    "    x = np.array(x)[sorted_indices]\n",
    "    y = np.array(y)[sorted_indices]\n",
    "    print(f\"Plotting {decoder_name} d={depth}, data points: {len(x)}\")\n",
    "    fig.add_trace(go.Scatter(\n",
    "        x=x,\n",
    "        y=y,\n",
    "        mode='lines+markers',\n",
    "        name=f\"{decoder_name} d={depth}\",\n",
    "        line=dict(color=colors[depth % len(colors)], width=2),\n",
    "        marker=dict(size=5),\n",
    "        legendgroup=decoder_name,\n",
    "        legendgrouptitle_text=decoder_name,\n",
    "        hovertemplate=f\"{decoder_name} d={depth}<br>p: %{{x:.2e}}<br>avg. # of operations: %{{y:.3}}\",\n",
    "        showlegend=True,\n",
    "    ))\n",
    "\n",
    "fig.update_layout(\n",
    "    title=f\"Average Operations\",\n",
    "    legend_title=\"Decoder\",\n",
    "    template=\"plotly_white\",\n",
    "    xaxis=dict(type='linear', title='p (linear scale)'),\n",
    "    yaxis=dict(type='linear', title='Average Operations (linear scale)'),\n",
    ")\n",
    "\n",
    "fig.show(renderer=\"browser\")"
   ]
  },
  {
   "cell_type": "code",
   "execution_count": null,
   "id": "f76ff616",
   "metadata": {},
   "outputs": [
    {
     "name": "stderr",
     "output_type": "stream",
     "text": [
      "/tmp/ipykernel_32194/4256134553.py:2: FutureWarning:\n",
      "\n",
      "DataFrameGroupBy.apply operated on the grouping columns. This behavior is deprecated, and in a future version of pandas the grouping columns will be excluded from the operation. Either pass `include_groups=False` to exclude the groupings or explicitly select the grouping columns after groupby to silence this warning.\n",
      "\n"
     ]
    },
    {
     "name": "stdout",
     "output_type": "stream",
     "text": [
      "Plotting ClAYG p=0.0001, data points: 13\n",
      "Plotting ClAYG p=0.0005, data points: 13\n",
      "Plotting ClAYG p=0.001, data points: 13\n",
      "Plotting UF p=0.0001, data points: 13\n",
      "Plotting UF p=0.0005, data points: 13\n",
      "Plotting UF p=0.001, data points: 13\n",
      "Opening in existing browser session.\n"
     ]
    }
   ],
   "source": [
    "# Plot average operations\n",
    "average_operations = data.loc[data['metric'] == 'average_operations'].groupby(['decoder', 'p'], group_keys=False).apply(\n",
    "    lambda x: x.set_index('depth')['value'].to_dict()\n",
    ").to_dict()\n",
    "\n",
    "fig = go.Figure()\n",
    "\n",
    "for (decoder, p), values in average_operations.items():\n",
    "    colors = decoder_colors.get(decoder)\n",
    "    decoder = decoder_names.get(decoder)\n",
    "    x = list(values.keys())\n",
    "    y = list(values.values())\n",
    "    # sort by x\n",
    "    sorted_indices = np.argsort(x)\n",
    "    x = np.array(x)[sorted_indices]\n",
    "    y = np.array(y)[sorted_indices]\n",
    "    print(f\"Plotting {decoder} p={p}, data points: {len(x)}\")\n",
    "    fig.add_trace(go.Scatter(\n",
    "        x=x,\n",
    "        y=y,\n",
    "        mode='lines+markers',\n",
    "        name=f\"{decoder} p={p}\",\n",
    "        line=dict(color=colors[i % len(colors)], width=2),\n",
    "        marker=dict(size=5),\n",
    "        legendgroup=decoder,\n",
    "        legendgrouptitle_text=decoder,\n",
    "        hovertemplate=f\"{decoder} p={p}<br>d: %{{x}}<br>avg. # of operations: %{{y:.3}}\",\n",
    "        showlegend=True,\n",
    "    ))\n",
    "\n",
    "fig.update_layout(\n",
    "    title=f\"Average Operations\",\n",
    "    legend_title=\"Decoder\",\n",
    "    template=\"plotly_white\",\n",
    "    xaxis=dict(type='linear', title='distance d (linear scale)'),\n",
    "    yaxis=dict(type='linear', title='Average Operations (linear scale)'),\n",
    ")\n",
    "\n",
    "fig.show(renderer=\"browser\")"
   ]
  }
 ],
 "metadata": {
  "kernelspec": {
   "display_name": ".venv",
   "language": "python",
   "name": "python3"
  },
  "language_info": {
   "codemirror_mode": {
    "name": "ipython",
    "version": 3
   },
   "file_extension": ".py",
   "mimetype": "text/x-python",
   "name": "python",
   "nbconvert_exporter": "python",
   "pygments_lexer": "ipython3",
   "version": "3.12.3"
  }
 },
 "nbformat": 4,
 "nbformat_minor": 5
}
